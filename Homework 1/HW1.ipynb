{
 "cells": [
  {
   "cell_type": "code",
   "execution_count": 2,
   "metadata": {},
   "outputs": [
    {
     "name": "stderr",
     "output_type": "stream",
     "text": [
      "[nltk_data] Downloading package gutenberg to\n",
      "[nltk_data]     /home/codespace/nltk_data...\n",
      "[nltk_data]   Package gutenberg is already up-to-date!\n",
      "[nltk_data] Downloading package stopwords to\n",
      "[nltk_data]     /home/codespace/nltk_data...\n",
      "[nltk_data]   Package stopwords is already up-to-date!\n",
      "[nltk_data] Downloading package punkt to /home/codespace/nltk_data...\n",
      "[nltk_data]   Package punkt is already up-to-date!\n"
     ]
    },
    {
     "data": {
      "text/plain": [
       "True"
      ]
     },
     "execution_count": 2,
     "metadata": {},
     "output_type": "execute_result"
    }
   ],
   "source": [
    "import nltk\n",
    "from nltk import FreqDist, bigrams\n",
    "from nltk.collocations import BigramAssocMeasures, BigramCollocationFinder\n",
    "from nltk.corpus import gutenberg, stopwords\n",
    "import string\n",
    "\n",
    "# Download necessary corpora\n",
    "nltk.download('gutenberg')\n",
    "nltk.download('stopwords')\n",
    "nltk.download('punkt')"
   ]
  },
  {
   "cell_type": "code",
   "execution_count": 3,
   "metadata": {},
   "outputs": [],
   "source": [
    "kjv_text = gutenberg.raw('bible-kjv.txt')\n",
    "caesar_text = gutenberg.raw('shakespeare-caesar.txt')"
   ]
  },
  {
   "cell_type": "code",
   "execution_count": 9,
   "metadata": {},
   "outputs": [],
   "source": [
    "\n",
    "\n",
    "import nltk\n",
    "from nltk.tokenize import TreebankWordTokenizer\n",
    "from nltk.corpus import stopwords\n",
    "\n",
    "# Preprocess function to tokenize using TreebankWordTokenizer, lowercase, and remove punctuation and stopwords\n",
    "def preprocess(text):\n",
    "    tokenizer = TreebankWordTokenizer()\n",
    "    tokens = tokenizer.tokenize(text.lower())  # Use Treebank tokenizer\n",
    "    tokens = [word for word in tokens if word.isalnum()]  # Remove punctuation\n",
    "    stop_words = set(stopwords.words('english'))\n",
    "    filtered_words = [word for word in tokens if word not in stop_words]\n",
    "    return filtered_words\n",
    "\n",
    "# Example: Assuming kjv_text and caesar_text are already loaded\n",
    "kjv_words = preprocess(kjv_text)\n",
    "caesar_words = preprocess(caesar_text)\n"
   ]
  },
  {
   "cell_type": "code",
   "execution_count": 10,
   "metadata": {},
   "outputs": [
    {
     "name": "stdout",
     "output_type": "stream",
     "text": [
      "Top 50 words in King James Bible by frequency:\n",
      "[('shall', 9838), ('unto', 8995), ('lord', 7231), ('thou', 5466), ('thy', 4600), ('said', 3976), ('ye', 3974), ('god', 3905), ('thee', 3331), ('upon', 2745), ('man', 2635), ('king', 2403), ('son', 2305), ('hath', 2258), ('israel', 2232), ('came', 2087), ('people', 1947), ('one', 1939), ('come', 1897), ('house', 1863), ('children', 1780), ('also', 1715), ('shalt', 1616), ('land', 1578), ('men', 1539), ('day', 1537), ('let', 1511), ('go', 1446), ('saying', 1441), ('went', 1387), ('made', 1386), ('even', 1365), ('behold', 1323), ('hand', 1318), ('us', 1306), ('saith', 1256), ('therefore', 1237), ('every', 1236), ('things', 1084), ('hast', 1069), ('sons', 1064), ('make', 1054), ('say', 1049), ('father', 1036), ('may', 1027), ('david', 1002), ('great', 945), ('thine', 930), ('jesus', 924), ('among', 916)]\n",
      "\n",
      "Top 50 words in Julius Caesar by frequency:\n",
      "[('caesar', 177), ('brutus', 150), ('haue', 147), ('shall', 125), ('thou', 115), ('cassius', 79), ('come', 73), ('let', 71), ('antony', 71), ('good', 68), ('know', 67), ('men', 61), ('heere', 59), ('enter', 58), ('vs', 58), ('thy', 56), ('thee', 50), ('man', 49), ('vpon', 47), ('would', 44), ('well', 43), ('yet', 42), ('day', 40), ('lord', 40), ('go', 39), ('noble', 39), ('like', 39), ('caesars', 38), ('say', 37), ('may', 37), ('see', 37), ('rome', 37), ('heare', 37), ('tell', 37), ('night', 37), ('selfe', 36), ('must', 36), ('giue', 35), ('hath', 35), ('speake', 34), ('stand', 33), ('loue', 33), ('one', 32), ('vp', 31), ('caska', 31), ('doth', 30), ('much', 29), ('feare', 29), ('euery', 28), ('caes', 28)]\n"
     ]
    }
   ],
   "source": [
    "# Frequency Distribution for both texts\n",
    "kjv_freq = FreqDist(kjv_words)\n",
    "caesar_freq = FreqDist(caesar_words)\n",
    "\n",
    "# Top 50 words by frequency for both texts\n",
    "print(\"Top 50 words in King James Bible by frequency:\")\n",
    "print(kjv_freq.most_common(50))\n",
    "\n",
    "print(\"\\nTop 50 words in Julius Caesar by frequency:\")\n",
    "print(caesar_freq.most_common(50))\n"
   ]
  },
  {
   "cell_type": "code",
   "execution_count": 11,
   "metadata": {},
   "outputs": [
    {
     "name": "stdout",
     "output_type": "stream",
     "text": [
      "\n",
      "Top 50 bigrams in King James Bible by frequency:\n",
      "[(('said', 'unto'), 1697), (('thou', 'shalt'), 1250), (('lord', 'god'), 823), (('ye', 'shall'), 773), (('thou', 'hast'), 772), (('saith', 'lord'), 739), (('children', 'israel'), 581), (('unto', 'lord'), 573), (('came', 'pass'), 455), (('thus', 'saith'), 445), (('shall', 'come'), 434), (('unto', 'thee'), 424), (('say', 'unto'), 407), (('lord', 'thy'), 351), (('thy', 'god'), 332), (('lord', 'hath'), 331), (('thou', 'art'), 326), (('lord', 'shall'), 316), (('every', 'one'), 314), (('thee', 'thou'), 294), (('every', 'man'), 291), (('lord', 'said'), 284), (('spake', 'unto'), 279), (('shalt', 'thou'), 269), (('word', 'lord'), 259), (('came', 'unto'), 222), (('unto', 'moses'), 222), (('let', 'us'), 215), (('god', 'hath'), 214), (('answered', 'said'), 209), (('lord', 'hosts'), 208), (('unto', 'ye'), 203), (('son', 'man'), 193), (('shall', 'ye'), 192), (('house', 'lord'), 191), (('shall', 'go'), 188), (('god', 'israel'), 188), (('saith', 'unto'), 185), (('land', 'egypt'), 176), (('come', 'unto'), 170), (('pray', 'thee'), 170), (('hast', 'thou'), 165), (('thy', 'servant'), 165), (('burnt', 'offering'), 165), (('neither', 'shall'), 164), (('priest', 'shall'), 164), (('jesus', 'christ'), 164), (('lord', 'spake'), 163), (('right', 'hand'), 160), (('come', 'pass'), 156)]\n",
      "\n",
      "Top 50 bigrams in Julius Caesar by frequency:\n",
      "[(('let', 'vs'), 16), (('mark', 'antony'), 13), (('marke', 'antony'), 12), (('thou', 'art'), 11), (('would', 'haue'), 10), (('enter', 'brutus'), 10), (('art', 'thou'), 9), (('noble', 'brutus'), 9), (('thou', 'hast'), 9), (('brutus', 'cassius'), 8), (('haue', 'done'), 8), (('good', 'morrow'), 8), (('caesar', 'shall'), 8), (('shall', 'finde'), 7), (('thee', 'thou'), 7), (('good', 'night'), 7), (('ides', 'march'), 6), (('haue', 'seene'), 6), (('caesar', 'caes'), 6), (('antony', 'shall'), 6), (('shall', 'haue'), 6), (('brutus', 'haue'), 5), (('haue', 'heard'), 5), (('say', 'brutus'), 5), (('mine', 'owne'), 5), (('brutus', 'thou'), 5), (('metellus', 'cymber'), 5), (('decius', 'brutus'), 5), (('haue', 'beene'), 5), (('euery', 'man'), 5), (('caius', 'cassius'), 5), (('caesar', 'thou'), 5), (('great', 'caesar'), 5), (('come', 'downe'), 5), (('thou', 'thy'), 4), (('enter', 'caesar'), 4), (('caesar', 'haue'), 4), (('ye', 'gods'), 4), (('tell', 'thee'), 4), (('hee', 'put'), 4), (('fell', 'downe'), 4), (('caesar', 'hath'), 4), (('caesar', 'doth'), 4), (('haue', 'hand'), 4), (('heere', 'comes'), 4), (('wilt', 'thou'), 4), (('loue', 'caesar'), 4), (('caius', 'ligarius'), 4), (('shall', 'say'), 4), (('noble', 'caesar'), 4)]\n"
     ]
    }
   ],
   "source": [
    "\n",
    "\n",
    "# Bigrams Frequency for both texts\n",
    "kjv_bigrams = FreqDist(bigrams(kjv_words))\n",
    "caesar_bigrams = FreqDist(bigrams(caesar_words))\n",
    "\n",
    "# Top 50 bigrams by frequency for both texts\n",
    "print(\"\\nTop 50 bigrams in King James Bible by frequency:\")\n",
    "print(kjv_bigrams.most_common(50))\n",
    "\n",
    "print(\"\\nTop 50 bigrams in Julius Caesar by frequency:\")\n",
    "print(caesar_bigrams.most_common(50))\n",
    "\n",
    "# Bigram Mutual Information for both texts\n",
    "bigram_measures = BigramAssocMeasures()\n",
    "kjv_finder = BigramCollocationFinder.from_words(kjv_words)\n",
    "caesar_finder = BigramCollocationFinder.from_words(caesar_words)\n",
    "\n",
    "\n"
   ]
  },
  {
   "cell_type": "code",
   "execution_count": 12,
   "metadata": {},
   "outputs": [
    {
     "name": "stdout",
     "output_type": "stream",
     "text": [
      "\n",
      "Top 50 bigrams in King James Bible by Mutual Information:\n",
      "[('bildad', 'shuhite'), ('blasting', 'mildew'), ('abishag', 'shunammite'), ('ahinoam', 'jezreelitess'), ('grain', 'mustard'), ('fins', 'scales'), ('swarms', 'flies'), ('warp', 'woof'), ('cherethites', 'pelethites'), ('zorah', 'eshtaol'), ('untempered', 'morter'), ('engravings', 'signet'), ('cheweth', 'cud'), ('dathan', 'abiram'), ('flanks', 'caul'), ('zebah', 'zalmunna'), ('er', 'onan'), ('hushai', 'archite'), ('ruth', 'moabitess'), ('caul', 'liver'), ('eliphaz', 'temanite'), ('meshach', 'abednego'), ('principalities', 'powers'), ('shadrach', 'meshach'), ('cock', 'crow'), ('ahijah', 'shilonite'), ('menservants', 'maidservants'), ('filthy', 'lucre'), ('nadab', 'abihu'), ('openeth', 'matrix'), ('naboth', 'jezreelite'), ('barzillai', 'gileadite'), ('divideth', 'hoof'), ('reubenites', 'gadites'), ('hophni', 'phinehas'), ('badgers', 'skins'), ('tooth', 'tooth'), ('ill', 'favoured'), ('astonishment', 'hissing'), ('skins', 'dyed'), ('perizzites', 'hivites'), ('hivites', 'jebusites'), ('reckoned', 'genealogies'), ('heman', 'jeduthun'), ('judas', 'iscariot'), ('psalteries', 'harps'), ('shem', 'ham'), ('curious', 'girdle'), ('floweth', 'milk'), ('brook', 'kidron')]\n",
      "\n",
      "Top 50 bigrams in Julius Caesar by Mutual Information:\n",
      "[('ides', 'march'), ('metellus', 'cymber'), ('mine', 'owne'), ('mark', 'antony'), ('marke', 'antony'), ('good', 'morrow'), ('thou', 'hast'), ('haue', 'seene'), ('caius', 'cassius'), ('haue', 'beene'), ('thou', 'art'), ('let', 'vs'), ('haue', 'heard'), ('euery', 'man'), ('art', 'thou'), ('shall', 'finde'), ('come', 'downe'), ('good', 'night'), ('decius', 'brutus'), ('haue', 'done'), ('would', 'haue'), ('noble', 'brutus'), ('thee', 'thou'), ('caesar', 'caes'), ('enter', 'brutus'), ('great', 'caesar'), ('say', 'brutus'), ('antony', 'shall'), ('brutus', 'cassius'), ('caesar', 'shall'), ('shall', 'haue'), ('brutus', 'thou'), ('caesar', 'thou'), ('brutus', 'haue')]\n"
     ]
    }
   ],
   "source": [
    "# Apply frequency filter\n",
    "kjv_finder.apply_freq_filter(5)\n",
    "caesar_finder.apply_freq_filter(5)\n",
    "\n",
    "# Top 50 bigrams by Mutual Information score for both texts\n",
    "print(\"\\nTop 50 bigrams in King James Bible by Mutual Information:\")\n",
    "print(kjv_finder.nbest(bigram_measures.pmi, 50))\n",
    "\n",
    "print(\"\\nTop 50 bigrams in Julius Caesar by Mutual Information:\")\n",
    "print(caesar_finder.nbest(bigram_measures.pmi, 50))"
   ]
  }
 ],
 "metadata": {
  "kernelspec": {
   "display_name": "Python 3",
   "language": "python",
   "name": "python3"
  },
  "language_info": {
   "codemirror_mode": {
    "name": "ipython",
    "version": 3
   },
   "file_extension": ".py",
   "mimetype": "text/x-python",
   "name": "python",
   "nbconvert_exporter": "python",
   "pygments_lexer": "ipython3",
   "version": "3.12.1"
  }
 },
 "nbformat": 4,
 "nbformat_minor": 2
}
