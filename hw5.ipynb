{
 "cells": [
  {
   "cell_type": "code",
   "execution_count": 7,
   "metadata": {},
   "outputs": [],
   "source": [
    "import nltk\n",
    "\n",
    "# Define the extended flight grammar for the given sentences\n",
    "flight_grammar = nltk.CFG.fromstring(\"\"\"\n",
    "  S -> NP VP | VP\n",
    "  VP -> V NP | V NP PP | V PP | V NP NP\n",
    "  PP -> P NP | P VP\n",
    "  V -> \"saw\" | \"ate\" | \"walked\" | \"shot\" | \"book\" | \"prefer\" | \"gave\" | \"want\"\n",
    "  NP -> Prop | Det N | Det N PP\n",
    "  Prop -> \"John\" | \"Mary\" | \"Bob\" | \"I\" | \"Houston\" | \"Jack\"\n",
    "  Det -> \"a\" | \"an\" | \"the\" | \"my\" | \"that\"\n",
    "  N -> \"man\" | \"dog\" | \"cat\" | \"telescope\" | \"park\" | \"elephant\" | \"pajamas\" | \"flight\" | \"bone\"\n",
    "  P -> \"in\" | \"on\" | \"by\" | \"with\" | \"through\" | \"to\"\n",
    "\"\"\")\n",
    "\n"
   ]
  },
  {
   "cell_type": "code",
   "execution_count": 8,
   "metadata": {},
   "outputs": [],
   "source": [
    "# Create the Recursive Descent Parser\n",
    "rd_parser = nltk.RecursiveDescentParser(flight_grammar)\n",
    "\n",
    "# Define the sentences to parse\n",
    "sentences = [\n",
    "    \"I prefer a flight through Houston\",\n",
    "    \"Jack walked with the dog\",\n",
    "    \"John gave the dog a bone\",\n",
    "    \"I want to book that flight\"\n",
    "]\n"
   ]
  },
  {
   "cell_type": "code",
   "execution_count": 9,
   "metadata": {},
   "outputs": [
    {
     "name": "stdout",
     "output_type": "stream",
     "text": [
      "Parsing: 'I prefer a flight through Houston'\n",
      "(S\n",
      "  (NP (Prop I))\n",
      "  (VP\n",
      "    (V prefer)\n",
      "    (NP (Det a) (N flight) (PP (P through) (NP (Prop Houston))))))\n",
      "(S\n",
      "  (NP (Prop I))\n",
      "  (VP\n",
      "    (V prefer)\n",
      "    (NP (Det a) (N flight))\n",
      "    (PP (P through) (NP (Prop Houston)))))\n",
      "\n",
      "\n",
      "Parsing: 'Jack walked with the dog'\n",
      "(S\n",
      "  (NP (Prop Jack))\n",
      "  (VP (V walked) (PP (P with) (NP (Det the) (N dog)))))\n",
      "\n",
      "\n",
      "Parsing: 'John gave the dog a bone'\n",
      "(S\n",
      "  (NP (Prop John))\n",
      "  (VP (V gave) (NP (Det the) (N dog)) (NP (Det a) (N bone))))\n",
      "\n",
      "\n",
      "Parsing: 'I want to book that flight'\n",
      "(S\n",
      "  (NP (Prop I))\n",
      "  (VP (V want) (PP (P to) (VP (V book) (NP (Det that) (N flight))))))\n",
      "\n",
      "\n"
     ]
    }
   ],
   "source": [
    "# Parse each sentence\n",
    "for sent in sentences:\n",
    "    print(f\"Parsing: '{sent}'\")\n",
    "    tokens = sent.split()\n",
    "    for tree in rd_parser.parse(tokens):\n",
    "        print(tree)\n",
    "    print(\"\\n\")"
   ]
  }
 ],
 "metadata": {
  "kernelspec": {
   "display_name": "Python 3",
   "language": "python",
   "name": "python3"
  },
  "language_info": {
   "codemirror_mode": {
    "name": "ipython",
    "version": 3
   },
   "file_extension": ".py",
   "mimetype": "text/x-python",
   "name": "python",
   "nbconvert_exporter": "python",
   "pygments_lexer": "ipython3",
   "version": "3.12.1"
  }
 },
 "nbformat": 4,
 "nbformat_minor": 2
}
