{
 "cells": [
  {
   "cell_type": "code",
   "execution_count": 2,
   "metadata": {},
   "outputs": [],
   "source": [
    "from nltk.tokenize import RegexpTokenizer"
   ]
  },
  {
   "cell_type": "code",
   "execution_count": 62,
   "metadata": {},
   "outputs": [
    {
     "name": "stdout",
     "output_type": "stream",
     "text": [
      "Found tokens: ['Mr.', 'Mrs.', 'Dr.', 'Gov.', \"can't\", \"wasn't\", \"the're\"]\n"
     ]
    }
   ],
   "source": [
    "import nltk\n",
    "from nltk.tokenize import RegexpTokenizer\n",
    "\n",
    "text = \"Mr. Black and Mrs. Brown attended the lecture by Dr. Gray, but Gov. White can't wasn't the're.\"\n",
    "\n",
    "tokenizer = RegexpTokenizer(r\"[A-Z][a-z]{0,2}\\.|[A-Za-z]+'[A-Za-z]+\")\n",
    "\n",
    "tokens = tokenizer.tokenize(text)\n",
    "\n",
    "\n",
    "# Print \n",
    "print(\"Found tokens:\", tokens)\n"
   ]
  },
  {
   "cell_type": "code",
   "execution_count": 69,
   "metadata": {},
   "outputs": [
    {
     "name": "stdout",
     "output_type": "stream",
     "text": [
      "Found tokens: [\"GOV'T\", 'Sen.', \"can't\", 'w/']\n"
     ]
    }
   ],
   "source": [
    "import nltk\n",
    "from nltk.tokenize import RegexpTokenizer\n",
    "\n",
    "\n",
    "tweet1 = \"@natalieohayre I agree #hc09 needs reform- but not by crooked politicians who r clueless about healthcare! #tcot #fishy NO GOV'T TAKEOVER!\"\n",
    "\n",
    "tweet2 = \"To Sen. Roland Burris: Affordable, quality health insurance can't wait http://bit.ly/j63je #hc09 #IL #60660\"\n",
    "\n",
    "tweet3 = \"RT @karoli: RT @Seriou: .@whitehouse I will stand w/ Obama on #healthcare,  I trust him. #p2 #tlot\"\n",
    "\n",
    "tokenizer1 = RegexpTokenizer(r\"[A-Z][a-z]{0,2}\\.|[A-Za-z]+'[A-Za-z]+|w\\/\")\n",
    "# Tokenize\n",
    "tokens1 = tokenizer1.tokenize(tweet1 + \" \" + tweet2 + \" \" + tweet3)\n",
    "\n",
    "# Print tokens\n",
    "print(\"Found tokens:\", tokens1)"
   ]
  },
  {
   "cell_type": "code",
   "execution_count": null,
   "metadata": {},
   "outputs": [],
   "source": [
    "\n"
   ]
  }
 ],
 "metadata": {
  "kernelspec": {
   "display_name": "Python 3",
   "language": "python",
   "name": "python3"
  },
  "language_info": {
   "codemirror_mode": {
    "name": "ipython",
    "version": 3
   },
   "file_extension": ".py",
   "mimetype": "text/x-python",
   "name": "python",
   "nbconvert_exporter": "python",
   "pygments_lexer": "ipython3",
   "version": "3.12.1"
  }
 },
 "nbformat": 4,
 "nbformat_minor": 2
}
