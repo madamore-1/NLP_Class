{
 "cells": [
  {
   "cell_type": "code",
   "execution_count": 2,
   "metadata": {},
   "outputs": [
    {
     "name": "stderr",
     "output_type": "stream",
     "text": [
      "[nltk_data] Downloading package sentence_polarity to\n",
      "[nltk_data]     /home/codespace/nltk_data...\n",
      "[nltk_data]   Package sentence_polarity is already up-to-date!\n",
      "[nltk_data] Downloading package stopwords to\n",
      "[nltk_data]     /home/codespace/nltk_data...\n",
      "[nltk_data]   Package stopwords is already up-to-date!\n"
     ]
    },
    {
     "name": "stdout",
     "output_type": "stream",
     "text": [
      "Total number of sentences: 10662\n",
      "Categories: ['neg', 'pos']\n",
      "First four sentences:\n",
      "['simplistic', ',', 'silly', 'and', 'tedious', '.']\n",
      "[\"it's\", 'so', 'laddish', 'and', 'juvenile', ',', 'only', 'teenage', 'boys', 'could', 'possibly', 'find', 'it', 'funny', '.']\n",
      "['exploitative', 'and', 'largely', 'devoid', 'of', 'the', 'depth', 'or', 'sophistication', 'that', 'would', 'make', 'watching', 'such', 'a', 'graphic', 'treatment', 'of', 'the', 'crimes', 'bearable', '.']\n",
      "['[garbus]', 'discards', 'the', 'potential', 'for', 'pathological', 'study', ',', 'exhuming', 'instead', ',', 'the', 'skewed', 'melodrama', 'of', 'the', 'circumstantial', 'situation', '.']\n"
     ]
    }
   ],
   "source": [
    "# Import necessary libraries\n",
    "import nltk\n",
    "from nltk.corpus import sentence_polarity\n",
    "import random\n",
    "\n",
    "# Download the necessary NLTK data if you haven't already\n",
    "nltk.download('sentence_polarity')\n",
    "nltk.download('stopwords')\n",
    "\n",
    "# Load the movie review sentences from the NLTK corpus\n",
    "sentences = sentence_polarity.sents()\n",
    "documents = [(sent, category) for category in sentence_polarity.categories() \n",
    "             for sent in sentence_polarity.sents(categories=category)]\n",
    "random.shuffle(documents)  # Shuffle the documents\n",
    "\n",
    "# Check the number of sentences and categories\n",
    "print(f\"Total number of sentences: {len(sentences)}\")\n",
    "print(f\"Categories: {sentence_polarity.categories()}\")\n",
    "print(\"First four sentences:\")\n",
    "for sent in sentences[:4]:\n",
    "    print(sent)\n"
   ]
  },
  {
   "cell_type": "code",
   "execution_count": 3,
   "metadata": {},
   "outputs": [
    {
     "name": "stdout",
     "output_type": "stream",
     "text": [
      "Accuracy with BOW features: 72.70%\n",
      "Most Informative Features\n",
      "                  V_flat = True              neg : pos    =     21.8 : 1.0\n",
      "            V_engrossing = True              pos : neg    =     20.9 : 1.0\n",
      "                  V_warm = True              pos : neg    =     19.6 : 1.0\n",
      "               V_generic = True              neg : pos    =     16.4 : 1.0\n",
      "              V_provides = True              pos : neg    =     16.3 : 1.0\n",
      "                  V_loud = True              neg : pos    =     15.7 : 1.0\n",
      "              V_mediocre = True              neg : pos    =     15.7 : 1.0\n",
      "                V_boring = True              neg : pos    =     14.5 : 1.0\n",
      "               V_routine = True              neg : pos    =     13.7 : 1.0\n",
      "             V_inventive = True              pos : neg    =     13.6 : 1.0\n"
     ]
    }
   ],
   "source": [
    "# Extract all words and get the 2000 most common words for BOW features\n",
    "all_words_list = [word.lower() for (sent, _) in documents for word in sent]\n",
    "all_words = nltk.FreqDist(all_words_list)\n",
    "word_features = [word for (word, _) in all_words.most_common(2000)]\n",
    "\n",
    "# Define a function for BOW features\n",
    "def document_features(document, word_features):\n",
    "    document_words = set(document)\n",
    "    features = {f'V_{word}': (word in document_words) for word in word_features}\n",
    "    return features\n",
    "\n",
    "# Create feature sets using BOW\n",
    "featuresets = [(document_features(d, word_features), c) for (d, c) in documents]\n",
    "\n",
    "# Split into training and testing sets (90/10 split)\n",
    "train_set, test_set = featuresets[1000:], featuresets[:1000]\n",
    "\n",
    "# Train a Naive Bayes classifier and evaluate it\n",
    "classifier = nltk.NaiveBayesClassifier.train(train_set)\n",
    "accuracy = nltk.classify.accuracy(classifier, test_set)\n",
    "print(f'Accuracy with BOW features: {accuracy * 100:.2f}%')\n",
    "classifier.show_most_informative_features(10)\n"
   ]
  },
  {
   "cell_type": "code",
   "execution_count": 4,
   "metadata": {},
   "outputs": [
    {
     "name": "stdout",
     "output_type": "stream",
     "text": [
      "Loaded 6885 words from the subjectivity lexicon.\n",
      "Accuracy with Subjectivity Lexicon features: 75.40%\n"
     ]
    }
   ],
   "source": [
    "# Import the readSubjectivity function from Subjectivity.py (ensure the file is in the same directory)\n",
    "from subjectivity import readSubjectivity  # Adjust the path if necessary\n",
    "\n",
    "# Load the Subjectivity Lexicon\n",
    "SLpath = \"subjclueslen1-HLTEMNLP05.tff\"  # Path to the subjectivity lexicon file\n",
    "SL = readSubjectivity(SLpath)\n",
    "print(f\"Loaded {len(SL)} words from the subjectivity lexicon.\")\n",
    "\n",
    "# Define features using the Subjectivity Lexicon\n",
    "def SL_features(document, word_features, SL):\n",
    "    document_words = set(document)\n",
    "    features = {f'V_{word}': (word in document_words) for word in word_features}\n",
    "    weakPos, strongPos, weakNeg, strongNeg = 0, 0, 0, 0\n",
    "    for word in document_words:\n",
    "        if word in SL:\n",
    "            strength, _, _, polarity = SL[word]\n",
    "            if strength == 'weaksubj' and polarity == 'positive':\n",
    "                weakPos += 1\n",
    "            elif strength == 'strongsubj' and polarity == 'positive':\n",
    "                strongPos += 1\n",
    "            elif strength == 'weaksubj' and polarity == 'negative':\n",
    "                weakNeg += 1\n",
    "            elif strength == 'strongsubj' and polarity == 'negative':\n",
    "                strongNeg += 1\n",
    "    features['positivecount'] = weakPos + (2 * strongPos)\n",
    "    features['negativecount'] = weakNeg + (2 * strongNeg)\n",
    "    return features\n",
    "\n",
    "# Create feature sets using the Subjectivity Lexicon features\n",
    "SL_featuresets = [(SL_features(d, word_features, SL), c) for (d, c) in documents]\n",
    "train_set, test_set = SL_featuresets[1000:], SL_featuresets[:1000]\n",
    "\n",
    "# Train and evaluate the classifier\n",
    "classifier = nltk.NaiveBayesClassifier.train(train_set)\n",
    "accuracy = nltk.classify.accuracy(classifier, test_set)\n",
    "print(f'Accuracy with Subjectivity Lexicon features: {accuracy * 100:.2f}%')\n"
   ]
  },
  {
   "cell_type": "code",
   "execution_count": null,
   "metadata": {},
   "outputs": [],
   "source": [
    "negationwords = ['no', 'not', 'never', 'none', 'rather', 'hardly', 'scarcely', \n",
    "                 'rarely', 'seldom', 'neither', 'nor']\n",
    "\n",
    "# Define features with negation handling\n",
    "def NOT_features(document, word_features, negationwords):\n",
    "    features = {f'V_{word}': False for word in word_features}\n",
    "    features.update({f'V_NOT{word}': False for word in word_features})\n",
    "    for i in range(len(document)):\n",
    "        word = document[i]\n",
    "        if ((i + 1) < len(document)) and ((word in negationwords) or (word.endswith(\"n't\"))):\n",
    "            i += 1\n",
    "            if document[i] in word_features:\n",
    "                features[f'V_NOT{document[i]}'] = True\n",
    "        elif word in word_features:\n",
    "            features[f'V_{word}'] = True\n",
    "    return features\n",
    "\n",
    "# Create feature sets using negation handling\n",
    "NOT_featuresets = [(NOT_features(d, word_features, negationwords), c) for (d, c) in documents]\n",
    "train_set, test_set = NOT_featuresets[1000:], NOT_featuresets[:1000]\n",
    "\n",
    "# Train and evaluate the classifier\n",
    "classifier = nltk.NaiveBayesClassifier.train(train_set)\n",
    "accuracy = nltk.classify.accuracy(classifier, test_set)\n",
    "print(f'Accuracy with Negation features: {accuracy * 100:.2f}%')\n",
    "classifier.show_most_informative_features(10)\n"
   ]
  }
 ],
 "metadata": {
  "kernelspec": {
   "display_name": "Python 3",
   "language": "python",
   "name": "python3"
  },
  "language_info": {
   "codemirror_mode": {
    "name": "ipython",
    "version": 3
   },
   "file_extension": ".py",
   "mimetype": "text/x-python",
   "name": "python",
   "nbconvert_exporter": "python",
   "pygments_lexer": "ipython3",
   "version": "3.12.1"
  }
 },
 "nbformat": 4,
 "nbformat_minor": 2
}
