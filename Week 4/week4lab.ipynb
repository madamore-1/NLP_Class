{
 "cells": [
  {
   "cell_type": "code",
   "execution_count": 1,
   "metadata": {},
   "outputs": [
    {
     "name": "stderr",
     "output_type": "stream",
     "text": [
      "[nltk_data] Downloading package gutenberg to\n",
      "[nltk_data]     /home/codespace/nltk_data...\n",
      "[nltk_data]   Package gutenberg is already up-to-date!\n"
     ]
    },
    {
     "data": {
      "text/plain": [
       "True"
      ]
     },
     "execution_count": 1,
     "metadata": {},
     "output_type": "execute_result"
    }
   ],
   "source": [
    "import nltk\n",
    "from nltk.corpus import gutenberg\n",
    "from nltk.tokenize import TreebankWordTokenizer\n",
    "from nltk import pos_tag, FreqDist\n",
    "\n",
    "nltk.download('gutenberg')\n",
    "\n",
    "\n"
   ]
  },
  {
   "cell_type": "code",
   "execution_count": null,
   "metadata": {},
   "outputs": [],
   "source": [
    "\n",
    "bible_text = gutenberg.raw('bible-kjv.txt')\n"
   ]
  },
  {
   "cell_type": "code",
   "execution_count": 3,
   "metadata": {},
   "outputs": [],
   "source": [
    "# Split the raw text into sentences\n",
    "sentences = bible_text.split('.')\n",
    "\n"
   ]
  },
  {
   "cell_type": "code",
   "execution_count": 4,
   "metadata": {},
   "outputs": [],
   "source": [
    "\n",
    "# Use TreebankWordTokenizer to tokenize each sentence into words\n",
    "tokenizer = TreebankWordTokenizer()\n",
    "tokenized_sentences = [tokenizer.tokenize(sentence) for sentence in sentences if sentence]\n"
   ]
  },
  {
   "cell_type": "code",
   "execution_count": 5,
   "metadata": {},
   "outputs": [
    {
     "name": "stderr",
     "output_type": "stream",
     "text": [
      "[nltk_data] Downloading package gutenberg to\n",
      "[nltk_data]     /home/codespace/nltk_data...\n",
      "[nltk_data]   Package gutenberg is already up-to-date!\n",
      "[nltk_data] Downloading package treebank to\n",
      "[nltk_data]     /home/codespace/nltk_data...\n",
      "[nltk_data]   Package treebank is already up-to-date!\n"
     ]
    }
   ],
   "source": [
    "import nltk\n",
    "from nltk.corpus import gutenberg, treebank\n",
    "from nltk.tokenize import TreebankWordTokenizer\n",
    "from nltk.tag import UnigramTagger\n",
    "from nltk.probability import FreqDist\n",
    "\n",
    "# Download necessary data\n",
    "nltk.download('gutenberg')\n",
    "nltk.download('treebank')\n",
    "\n",
    "# Train the Unigram Tagger using Treebank Corpus\n",
    "train_sents = treebank.tagged_sents()\n",
    "unigram_tagger = UnigramTagger(train_sents)\n",
    "\n",
    "# Run the Unigram tagger on each list of tokenized sentences\n",
    "tagged_sentences = [unigram_tagger.tag(sentence) for sentence in tokenized_sentences]\n",
    "\n"
   ]
  },
  {
   "cell_type": "code",
   "execution_count": 6,
   "metadata": {},
   "outputs": [],
   "source": [
    "# Flatten the list of tagged sentences into one list of (word, tag) pairs\n",
    "flattened_tagged = [tag for sentence in tagged_sentences for tag in sentence if tag is not None]\n"
   ]
  },
  {
   "cell_type": "code",
   "execution_count": 7,
   "metadata": {},
   "outputs": [],
   "source": [
    "# Extract the tags from the (word, tag) pairs\n",
    "tags = [tag for _, tag in flattened_tagged]\n"
   ]
  },
  {
   "cell_type": "code",
   "execution_count": 8,
   "metadata": {},
   "outputs": [
    {
     "name": "stdout",
     "output_type": "stream",
     "text": [
      "Frequency Distribution of POS Tags in 'King James Bible':\n",
      "None: 207113\n",
      "IN: 108915\n",
      "DT: 90016\n",
      ",: 70573\n",
      "PRP: 57859\n",
      "CC: 57687\n",
      "NN: 55047\n",
      "VB: 28324\n",
      "VBD: 26612\n",
      "RB: 24438\n"
     ]
    }
   ],
   "source": [
    "# Extract the tags from the (word, tag) pairs\n",
    "tags = [tag for _, tag in flattened_tagged]\n",
    "\n",
    "# Compute the frequency distribution of the tags\n",
    "tag_fd = FreqDist(tags)\n",
    "\n",
    "# Display the frequency distribution of the POS tags\n",
    "print(\"Frequency Distribution of POS Tags in 'King James Bible':\")\n",
    "for tag, freq in tag_fd.most_common(10):\n",
    "    print(f\"{tag}: {freq}\")\n"
   ]
  }
 ],
 "metadata": {
  "kernelspec": {
   "display_name": "Python 3",
   "language": "python",
   "name": "python3"
  },
  "language_info": {
   "codemirror_mode": {
    "name": "ipython",
    "version": 3
   },
   "file_extension": ".py",
   "mimetype": "text/x-python",
   "name": "python",
   "nbconvert_exporter": "python",
   "pygments_lexer": "ipython3",
   "version": "3.12.1"
  }
 },
 "nbformat": 4,
 "nbformat_minor": 2
}
