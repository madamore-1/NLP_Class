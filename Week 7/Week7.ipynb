{
 "cells": [
  {
   "cell_type": "code",
   "execution_count": 2,
   "metadata": {},
   "outputs": [
    {
     "name": "stderr",
     "output_type": "stream",
     "text": [
      "[nltk_data] Downloading package names to /home/codespace/nltk_data...\n",
      "[nltk_data]   Package names is already up-to-date!\n"
     ]
    },
    {
     "data": {
      "text/plain": [
       "True"
      ]
     },
     "execution_count": 2,
     "metadata": {},
     "output_type": "execute_result"
    }
   ],
   "source": [
    "import nltk\n",
    "import random\n",
    "from nltk.corpus import names\n",
    "\n",
    "# Download names corpus\n",
    "nltk.download('names')\n"
   ]
  },
  {
   "cell_type": "code",
   "execution_count": 3,
   "metadata": {},
   "outputs": [],
   "source": [
    "# Label male and female names\n",
    "namesgender = ([(name, 'male') for name in names.words('male.txt')] +\n",
    "               [(name, 'female') for name in names.words('female.txt')])\n",
    "\n",
    "# Shuffle the data\n",
    "random.shuffle(namesgender)\n"
   ]
  },
  {
   "cell_type": "code",
   "execution_count": 4,
   "metadata": {},
   "outputs": [],
   "source": [
    "train_names = namesgender[500:]\n",
    "test_names = namesgender[:500]\n"
   ]
  },
  {
   "cell_type": "code",
   "execution_count": 5,
   "metadata": {},
   "outputs": [],
   "source": [
    "def gender_features(word):\n",
    "    return {'last_letter': word[-1]}\n"
   ]
  },
  {
   "cell_type": "code",
   "execution_count": 6,
   "metadata": {},
   "outputs": [],
   "source": [
    "def gender_features3(word):\n",
    "    return {'suffix1': word[-1], 'suffix2': word[-2]}\n"
   ]
  },
  {
   "cell_type": "code",
   "execution_count": 7,
   "metadata": {},
   "outputs": [],
   "source": [
    "# Feature sets with enhanced two-letter suffix features\n",
    "train_set = [(gender_features3(n), g) for (n, g) in train_names]\n",
    "test_set = [(gender_features3(n), g) for (n, g) in test_names]\n"
   ]
  },
  {
   "cell_type": "code",
   "execution_count": 8,
   "metadata": {},
   "outputs": [
    {
     "name": "stdout",
     "output_type": "stream",
     "text": [
      "Accuracy: 0.784\n"
     ]
    }
   ],
   "source": [
    "# Train classifier\n",
    "classifier = nltk.NaiveBayesClassifier.train(train_set)\n",
    "\n",
    "# Evaluate accuracy on the test set\n",
    "print(\"Accuracy:\", nltk.classify.accuracy(classifier, test_set))\n"
   ]
  },
  {
   "cell_type": "code",
   "execution_count": null,
   "metadata": {},
   "outputs": [
    {
     "name": "stdout",
     "output_type": "stream",
     "text": [
      "Number of errors: 108\n"
     ]
    }
   ],
   "source": [
    "def get_errors(test):\n",
    "    errors = []\n",
    "    for (name, tag) in test:\n",
    "        guess = classifier.classify(gender_features3(name))\n",
    "        if guess != tag:\n",
    "            errors.append((tag, guess, name))\n",
    "    return errors\n",
    "\n",
    "# Get and print errors\n",
    "errors = get_errors(test_names)\n",
    "print(\"Number of errors:\", len(errors))\n"
   ]
  },
  {
   "cell_type": "code",
   "execution_count": 10,
   "metadata": {},
   "outputs": [
    {
     "name": "stdout",
     "output_type": "stream",
     "text": [
      "Correct=female   Guess=male     Name=Adah                          \n",
      "Correct=female   Guess=male     Name=Alanah                        \n",
      "Correct=female   Guess=male     Name=Amabel                        \n",
      "Correct=female   Guess=male     Name=Ambur                         \n",
      "Correct=female   Guess=male     Name=Arabel                        \n",
      "Correct=female   Guess=male     Name=Ashleigh                      \n",
      "Correct=female   Guess=male     Name=Brier                         \n",
      "Correct=female   Guess=male     Name=Cameo                         \n",
      "Correct=female   Guess=male     Name=Casey                         \n",
      "Correct=female   Guess=male     Name=Cat                           \n",
      "Correct=female   Guess=male     Name=Cherey                        \n",
      "Correct=female   Guess=male     Name=Chriss                        \n",
      "Correct=female   Guess=male     Name=Clarey                        \n",
      "Correct=female   Guess=male     Name=Coriss                        \n",
      "Correct=female   Guess=male     Name=Deloris                       \n",
      "Correct=female   Guess=male     Name=Dolley                        \n",
      "Correct=female   Guess=male     Name=Dorian                        \n",
      "Correct=female   Guess=male     Name=Dorris                        \n",
      "Correct=female   Guess=male     Name=Eden                          \n",
      "Correct=female   Guess=male     Name=Ellen                         \n",
      "Correct=female   Guess=male     Name=Evaleen                       \n",
      "Correct=female   Guess=male     Name=Gen                           \n",
      "Correct=female   Guess=male     Name=Haleigh                       \n",
      "Correct=female   Guess=male     Name=Janet                         \n",
      "Correct=female   Guess=male     Name=Karlen                        \n",
      "Correct=female   Guess=male     Name=Kass                          \n",
      "Correct=female   Guess=male     Name=Kathleen                      \n",
      "Correct=female   Guess=male     Name=Keren                         \n",
      "Correct=female   Guess=male     Name=Kristien                      \n",
      "Correct=female   Guess=male     Name=Leorah                        \n",
      "Correct=female   Guess=male     Name=Marion                        \n",
      "Correct=female   Guess=male     Name=Marleen                       \n",
      "Correct=female   Guess=male     Name=Merl                          \n",
      "Correct=female   Guess=male     Name=Michel                        \n",
      "Correct=female   Guess=male     Name=Myrah                         \n",
      "Correct=female   Guess=male     Name=Myriam                        \n",
      "Correct=female   Guess=male     Name=Nonnah                        \n",
      "Correct=female   Guess=male     Name=Perl                          \n",
      "Correct=female   Guess=male     Name=Prue                          \n",
      "Correct=female   Guess=male     Name=Rachel                        \n",
      "Correct=female   Guess=male     Name=Raven                         \n",
      "Correct=female   Guess=male     Name=Robbin                        \n",
      "Correct=female   Guess=male     Name=Robinet                       \n",
      "Correct=female   Guess=male     Name=Scarlet                       \n",
      "Correct=female   Guess=male     Name=Sean                          \n",
      "Correct=female   Guess=male     Name=Sibel                         \n",
      "Correct=female   Guess=male     Name=Tamiko                        \n",
      "Correct=female   Guess=male     Name=Ted                           \n",
      "Correct=male     Guess=female   Name=Alix                          \n",
      "Correct=male     Guess=female   Name=Arne                          \n",
      "Correct=male     Guess=female   Name=Ashby                         \n",
      "Correct=male     Guess=female   Name=Averill                       \n",
      "Correct=male     Guess=female   Name=Beale                         \n",
      "Correct=male     Guess=female   Name=Benji                         \n",
      "Correct=male     Guess=female   Name=Brandy                        \n",
      "Correct=male     Guess=female   Name=Christie                      \n",
      "Correct=male     Guess=female   Name=Clint                         \n",
      "Correct=male     Guess=female   Name=Corby                         \n",
      "Correct=male     Guess=female   Name=Davie                         \n",
      "Correct=male     Guess=female   Name=Duane                         \n",
      "Correct=male     Guess=female   Name=Ernie                         \n",
      "Correct=male     Guess=female   Name=Everett                       \n",
      "Correct=male     Guess=female   Name=Filipe                        \n",
      "Correct=male     Guess=female   Name=Gale                          \n",
      "Correct=male     Guess=female   Name=Giffie                        \n",
      "Correct=male     Guess=female   Name=Giovanne                      \n",
      "Correct=male     Guess=female   Name=Graeme                        \n",
      "Correct=male     Guess=female   Name=Hewett                        \n",
      "Correct=male     Guess=female   Name=Isa                           \n",
      "Correct=male     Guess=female   Name=Kenny                         \n",
      "Correct=male     Guess=female   Name=Laurent                       \n",
      "Correct=male     Guess=female   Name=Lawerence                     \n",
      "Correct=male     Guess=female   Name=Lazare                        \n",
      "Correct=male     Guess=female   Name=Lorne                         \n",
      "Correct=male     Guess=female   Name=Lorrie                        \n",
      "Correct=male     Guess=female   Name=Lynn                          \n",
      "Correct=male     Guess=female   Name=Marmaduke                     \n",
      "Correct=male     Guess=female   Name=Merril                        \n",
      "Correct=male     Guess=female   Name=Michail                       \n",
      "Correct=male     Guess=female   Name=Mika                          \n",
      "Correct=male     Guess=female   Name=Neil                          \n",
      "Correct=male     Guess=female   Name=Nichole                       \n",
      "Correct=male     Guess=female   Name=Parke                         \n",
      "Correct=male     Guess=female   Name=Reece                         \n",
      "Correct=male     Guess=female   Name=Rudie                         \n",
      "Correct=male     Guess=female   Name=Scarface                      \n",
      "Correct=male     Guess=female   Name=Selby                         \n",
      "Correct=male     Guess=female   Name=Sergeant                      \n",
      "Correct=male     Guess=female   Name=Shea                          \n",
      "Correct=male     Guess=female   Name=Sibyl                         \n",
      "Correct=male     Guess=female   Name=Spense                        \n",
      "Correct=male     Guess=female   Name=Spike                         \n",
      "Correct=male     Guess=female   Name=Steve                         \n",
      "Correct=male     Guess=female   Name=Stinky                        \n",
      "Correct=male     Guess=female   Name=Sully                         \n",
      "Correct=male     Guess=female   Name=Sunny                         \n",
      "Correct=male     Guess=female   Name=Tannie                        \n",
      "Correct=male     Guess=female   Name=Temple                        \n",
      "Correct=male     Guess=female   Name=Tobe                          \n",
      "Correct=male     Guess=female   Name=Tommie                        \n",
      "Correct=male     Guess=female   Name=Tremayne                      \n",
      "Correct=male     Guess=female   Name=Vance                         \n",
      "Correct=male     Guess=female   Name=Virgil                        \n",
      "Correct=male     Guess=female   Name=Waine                         \n",
      "Correct=male     Guess=female   Name=Warde                         \n",
      "Correct=male     Guess=female   Name=Willmott                      \n",
      "Correct=male     Guess=female   Name=Yance                         \n",
      "Correct=male     Guess=female   Name=Yuri                          \n"
     ]
    }
   ],
   "source": [
    "def print_errors(errors):\n",
    "    for (tag, guess, name) in sorted(errors):\n",
    "        print(f'Correct={tag:<8s} Guess={guess:<8s} Name={name:<30s}')\n",
    "\n",
    "print_errors(errors)\n"
   ]
  },
  {
   "cell_type": "markdown",
   "metadata": {},
   "source": [
    "PART 1 Bonus"
   ]
  },
  {
   "cell_type": "code",
   "execution_count": 11,
   "metadata": {},
   "outputs": [
    {
     "name": "stdout",
     "output_type": "stream",
     "text": [
      "Bonus Accuracy with three-letter suffix: 0.788\n",
      "Number of errors with three-letter suffix: 106\n",
      "Correct=female   Guess=male     Name=Adah                          \n",
      "Correct=female   Guess=male     Name=Alanah                        \n",
      "Correct=female   Guess=male     Name=Amabel                        \n",
      "Correct=female   Guess=male     Name=Ambur                         \n",
      "Correct=female   Guess=male     Name=Arabel                        \n",
      "Correct=female   Guess=male     Name=Ashleigh                      \n",
      "Correct=female   Guess=male     Name=Brier                         \n",
      "Correct=female   Guess=male     Name=Cameo                         \n",
      "Correct=female   Guess=male     Name=Cat                           \n",
      "Correct=female   Guess=male     Name=Cherey                        \n",
      "Correct=female   Guess=male     Name=Clarey                        \n",
      "Correct=female   Guess=male     Name=Cyb                           \n",
      "Correct=female   Guess=male     Name=Deloris                       \n",
      "Correct=female   Guess=male     Name=Dorian                        \n",
      "Correct=female   Guess=male     Name=Dorris                        \n",
      "Correct=female   Guess=male     Name=Eden                          \n",
      "Correct=female   Guess=male     Name=Ellen                         \n",
      "Correct=female   Guess=male     Name=Evaleen                       \n",
      "Correct=female   Guess=male     Name=Gen                           \n",
      "Correct=female   Guess=male     Name=Grace                         \n",
      "Correct=female   Guess=male     Name=Haleigh                       \n",
      "Correct=female   Guess=male     Name=Janet                         \n",
      "Correct=female   Guess=male     Name=Karlen                        \n",
      "Correct=female   Guess=male     Name=Kass                          \n",
      "Correct=female   Guess=male     Name=Kathleen                      \n",
      "Correct=female   Guess=male     Name=Keren                         \n",
      "Correct=female   Guess=male     Name=Kristien                      \n",
      "Correct=female   Guess=male     Name=Lee                           \n",
      "Correct=female   Guess=male     Name=Leorah                        \n",
      "Correct=female   Guess=male     Name=Marion                        \n",
      "Correct=female   Guess=male     Name=Marleen                       \n",
      "Correct=female   Guess=male     Name=Merl                          \n",
      "Correct=female   Guess=male     Name=Michel                        \n",
      "Correct=female   Guess=male     Name=Mufi                          \n",
      "Correct=female   Guess=male     Name=Myrah                         \n",
      "Correct=female   Guess=male     Name=Myriam                        \n",
      "Correct=female   Guess=male     Name=Nonnah                        \n",
      "Correct=female   Guess=male     Name=Perl                          \n",
      "Correct=female   Guess=male     Name=Prue                          \n",
      "Correct=female   Guess=male     Name=Rachel                        \n",
      "Correct=female   Guess=male     Name=Raven                         \n",
      "Correct=female   Guess=male     Name=Robinet                       \n",
      "Correct=female   Guess=male     Name=Scarlet                       \n",
      "Correct=female   Guess=male     Name=Sean                          \n",
      "Correct=female   Guess=male     Name=Sibel                         \n",
      "Correct=female   Guess=male     Name=Tamiko                        \n",
      "Correct=female   Guess=male     Name=Ted                           \n",
      "Correct=male     Guess=female   Name=Alix                          \n",
      "Correct=male     Guess=female   Name=Arne                          \n",
      "Correct=male     Guess=female   Name=Averill                       \n",
      "Correct=male     Guess=female   Name=Beale                         \n",
      "Correct=male     Guess=female   Name=Benji                         \n",
      "Correct=male     Guess=female   Name=Brandy                        \n",
      "Correct=male     Guess=female   Name=Christie                      \n",
      "Correct=male     Guess=female   Name=Clint                         \n",
      "Correct=male     Guess=female   Name=Corby                         \n",
      "Correct=male     Guess=female   Name=Davie                         \n",
      "Correct=male     Guess=female   Name=Duane                         \n",
      "Correct=male     Guess=female   Name=Ernie                         \n",
      "Correct=male     Guess=female   Name=Everett                       \n",
      "Correct=male     Guess=female   Name=Filipe                        \n",
      "Correct=male     Guess=female   Name=Gale                          \n",
      "Correct=male     Guess=female   Name=Giffie                        \n",
      "Correct=male     Guess=female   Name=Giovanne                      \n",
      "Correct=male     Guess=female   Name=Graeme                        \n",
      "Correct=male     Guess=female   Name=Haley                         \n",
      "Correct=male     Guess=female   Name=Hewett                        \n",
      "Correct=male     Guess=female   Name=Isa                           \n",
      "Correct=male     Guess=female   Name=Kenny                         \n",
      "Correct=male     Guess=female   Name=Laurent                       \n",
      "Correct=male     Guess=female   Name=Lawerence                     \n",
      "Correct=male     Guess=female   Name=Lazare                        \n",
      "Correct=male     Guess=female   Name=Lorne                         \n",
      "Correct=male     Guess=female   Name=Lorrie                        \n",
      "Correct=male     Guess=female   Name=Lynn                          \n",
      "Correct=male     Guess=female   Name=Marmaduke                     \n",
      "Correct=male     Guess=female   Name=Martin                        \n",
      "Correct=male     Guess=female   Name=Mika                          \n",
      "Correct=male     Guess=female   Name=Neil                          \n",
      "Correct=male     Guess=female   Name=Nichole                       \n",
      "Correct=male     Guess=female   Name=Parke                         \n",
      "Correct=male     Guess=female   Name=Reece                         \n",
      "Correct=male     Guess=female   Name=Rodolph                       \n",
      "Correct=male     Guess=female   Name=Rudie                         \n",
      "Correct=male     Guess=female   Name=Selby                         \n",
      "Correct=male     Guess=female   Name=Shea                          \n",
      "Correct=male     Guess=female   Name=Sibyl                         \n",
      "Correct=male     Guess=female   Name=Spense                        \n",
      "Correct=male     Guess=female   Name=Spike                         \n",
      "Correct=male     Guess=female   Name=Steve                         \n",
      "Correct=male     Guess=female   Name=Stinky                        \n",
      "Correct=male     Guess=female   Name=Sully                         \n",
      "Correct=male     Guess=female   Name=Sunny                         \n",
      "Correct=male     Guess=female   Name=Tanney                        \n",
      "Correct=male     Guess=female   Name=Tannie                        \n",
      "Correct=male     Guess=female   Name=Temple                        \n",
      "Correct=male     Guess=female   Name=Tobe                          \n",
      "Correct=male     Guess=female   Name=Tomlin                        \n",
      "Correct=male     Guess=female   Name=Tommie                        \n",
      "Correct=male     Guess=female   Name=Tremayne                      \n",
      "Correct=male     Guess=female   Name=Vance                         \n",
      "Correct=male     Guess=female   Name=Waine                         \n",
      "Correct=male     Guess=female   Name=Warde                         \n",
      "Correct=male     Guess=female   Name=Yance                         \n",
      "Correct=male     Guess=female   Name=Yancy                         \n",
      "Correct=male     Guess=female   Name=Yuri                          \n"
     ]
    }
   ],
   "source": [
    "# Define the gender_features_bonus function with three-letter suffixes\n",
    "def gender_features_bonus(word):\n",
    "    return {'suffix1': word[-1], 'suffix2': word[-2], 'suffix3': word[-3] if len(word) > 2 else ''}\n",
    "\n",
    "# Create new train and test sets using the bonus feature function\n",
    "train_set_bonus = [(gender_features_bonus(n), g) for (n, g) in train_names]\n",
    "test_set_bonus = [(gender_features_bonus(n), g) for (n, g) in test_names]\n",
    "\n",
    "# Train a Naïve Bayes classifier with the new feature set\n",
    "classifier_bonus = nltk.NaiveBayesClassifier.train(train_set_bonus)\n",
    "\n",
    "# Calculate and print accuracy\n",
    "accuracy_bonus = nltk.classify.accuracy(classifier_bonus, test_set_bonus)\n",
    "print(\"Bonus Accuracy with three-letter suffix:\", accuracy_bonus)\n",
    "\n",
    "# Define error-checking function\n",
    "def get_errors_bonus(test):\n",
    "    errors = []\n",
    "    for (name, tag) in test:\n",
    "        guess = classifier_bonus.classify(gender_features_bonus(name))\n",
    "        if guess != tag:\n",
    "            errors.append((tag, guess, name))\n",
    "    return errors\n",
    "\n",
    "# Get and print number of errors\n",
    "errors_bonus = get_errors_bonus(test_names)\n",
    "print(\"Number of errors with three-letter suffix:\", len(errors_bonus))\n",
    "\n",
    "# Print errors for review\n",
    "def print_errors_bonus(errors):\n",
    "    for (tag, guess, name) in sorted(errors):\n",
    "        print(f'Correct={tag:<8s} Guess={guess:<8s} Name={name:<30s}')\n",
    "\n",
    "print_errors_bonus(errors_bonus)"
   ]
  },
  {
   "cell_type": "markdown",
   "metadata": {},
   "source": [
    "PART 2\n"
   ]
  },
  {
   "cell_type": "code",
   "execution_count": 12,
   "metadata": {},
   "outputs": [
    {
     "name": "stderr",
     "output_type": "stream",
     "text": [
      "[nltk_data] Downloading package movie_reviews to\n",
      "[nltk_data]     /home/codespace/nltk_data...\n",
      "[nltk_data]   Package movie_reviews is already up-to-date!\n"
     ]
    },
    {
     "data": {
      "text/plain": [
       "True"
      ]
     },
     "execution_count": 12,
     "metadata": {},
     "output_type": "execute_result"
    }
   ],
   "source": [
    "import nltk\n",
    "from nltk.corpus import movie_reviews\n",
    "import random\n",
    "\n",
    "nltk.download('movie_reviews')\n"
   ]
  },
  {
   "cell_type": "code",
   "execution_count": 13,
   "metadata": {},
   "outputs": [],
   "source": [
    "documents = [(list(movie_reviews.words(fileid)), category)\n",
    "             for category in movie_reviews.categories()\n",
    "             for fileid in movie_reviews.fileids(category)]\n"
   ]
  },
  {
   "cell_type": "code",
   "execution_count": 14,
   "metadata": {},
   "outputs": [],
   "source": [
    "documents = [(list(movie_reviews.words(fileid)), category)\n",
    "             for category in movie_reviews.categories()\n",
    "             for fileid in movie_reviews.fileids(category)]\n"
   ]
  },
  {
   "cell_type": "code",
   "execution_count": 15,
   "metadata": {},
   "outputs": [],
   "source": [
    "random.shuffle(documents)"
   ]
  },
  {
   "cell_type": "code",
   "execution_count": 16,
   "metadata": {},
   "outputs": [],
   "source": [
    "all_words = nltk.FreqDist(w.lower() for w in movie_reviews.words())\n",
    "word_features_2000 = [word for (word, freq) in all_words.most_common(2000)]\n"
   ]
  },
  {
   "cell_type": "code",
   "execution_count": 17,
   "metadata": {},
   "outputs": [],
   "source": [
    "def document_features(document, word_features):\n",
    "    document_words = set(document)\n",
    "    features = {}\n",
    "    for word in word_features:\n",
    "        features['V_{}'.format(word)] = (word in document_words)\n",
    "    return features\n"
   ]
  },
  {
   "cell_type": "code",
   "execution_count": 18,
   "metadata": {},
   "outputs": [
    {
     "name": "stdout",
     "output_type": "stream",
     "text": [
      "Accuracy with 1000 words: 0.75\n"
     ]
    }
   ],
   "source": [
    "word_features_1000 = [word for (word, freq) in all_words.most_common(1000)]\n",
    "featuresets_1000 = [(document_features(d, word_features_1000), c) for (d, c) in documents]\n",
    "\n",
    "# Split into train and test sets (80-20 split)\n",
    "split_index = int(0.8 * len(featuresets_1000))\n",
    "train_set, test_set = featuresets_1000[:split_index], featuresets_1000[split_index:]\n",
    "\n",
    "# Train and evaluate\n",
    "classifier_1000 = nltk.NaiveBayesClassifier.train(train_set)\n",
    "print(\"Accuracy with 1000 words:\", nltk.classify.accuracy(classifier_1000, test_set))\n"
   ]
  },
  {
   "cell_type": "code",
   "execution_count": 19,
   "metadata": {},
   "outputs": [
    {
     "name": "stdout",
     "output_type": "stream",
     "text": [
      "Accuracy with 3000 words: 0.7975\n"
     ]
    }
   ],
   "source": [
    "word_features_3000 = [word for (word, freq) in all_words.most_common(3000)]\n",
    "featuresets_3000 = [(document_features(d, word_features_3000), c) for (d, c) in documents]\n",
    "\n",
    "# Split into train and test sets\n",
    "train_set, test_set = featuresets_3000[:split_index], featuresets_3000[split_index:]\n",
    "\n",
    "# Train and evaluate\n",
    "classifier_3000 = nltk.NaiveBayesClassifier.train(train_set)\n",
    "print(\"Accuracy with 3000 words:\", nltk.classify.accuracy(classifier_3000, test_set))\n"
   ]
  },
  {
   "cell_type": "code",
   "execution_count": null,
   "metadata": {},
   "outputs": [],
   "source": []
  }
 ],
 "metadata": {
  "kernelspec": {
   "display_name": "Python 3",
   "language": "python",
   "name": "python3"
  },
  "language_info": {
   "codemirror_mode": {
    "name": "ipython",
    "version": 3
   },
   "file_extension": ".py",
   "mimetype": "text/x-python",
   "name": "python",
   "nbconvert_exporter": "python",
   "pygments_lexer": "ipython3",
   "version": "3.12.1"
  }
 },
 "nbformat": 4,
 "nbformat_minor": 2
}
